{
  "cells": [
    {
      "cell_type": "markdown",
      "metadata": {
        "id": "view-in-github",
        "colab_type": "text"
      },
      "source": [
        "<a href=\"https://colab.research.google.com/github/adhiiy/Mini-Project-Team-8-understanding-regression-using-spending-habits/blob/main/understanding_regression_using_spending_habits.ipynb\" target=\"_parent\"><img src=\"https://colab.research.google.com/assets/colab-badge.svg\" alt=\"Open In Colab\"/></a>"
      ]
    },
    {
      "cell_type": "code",
      "execution_count": null,
      "id": "b74f419d",
      "metadata": {
        "_cell_guid": "b1076dfc-b9ad-4769-8c92-a6c4dae69d19",
        "_uuid": "8f2839f25d086af736a60e9eeb907d3b93b6e0e5",
        "execution": {
          "iopub.execute_input": "2024-03-14T20:53:23.346958Z",
          "iopub.status.busy": "2024-03-14T20:53:23.346449Z",
          "iopub.status.idle": "2024-03-14T20:53:25.839635Z",
          "shell.execute_reply": "2024-03-14T20:53:25.838460Z"
        },
        "papermill": {
          "duration": 2.511401,
          "end_time": "2024-03-14T20:53:25.842412",
          "exception": false,
          "start_time": "2024-03-14T20:53:23.331011",
          "status": "completed"
        },
        "tags": [],
        "id": "b74f419d"
      },
      "outputs": [],
      "source": [
        "import pandas as pd\n",
        "import numpy as np\n",
        "import matplotlib.pyplot as plt\n",
        "%matplotlib inline\n",
        "\n",
        "import seaborn as sns"
      ]
    },
    {
      "cell_type": "markdown",
      "id": "8495a895",
      "metadata": {
        "papermill": {
          "duration": 0.013399,
          "end_time": "2024-03-14T20:53:25.869796",
          "exception": false,
          "start_time": "2024-03-14T20:53:25.856397",
          "status": "completed"
        },
        "tags": [],
        "id": "8495a895"
      },
      "source": [
        "### Disclaimer\n",
        "* I am someone who is still fairly new to the field of data science and machine learning so much of my code and practices may not be ideal. But I do hope that this notebook can provide you with a good general understanding of using machine learning for regression.\n",
        "\n",
        "* If you are more experienced than me and notice problems, please feel free to let me know.\n",
        "\n",
        "* Most of the information in this notebook on building the model is from the course \"Supervised Machine Learning Regression Classification\" by Andrew Ng on Coursera. Please check out that course if you're interested, the explainations in that course were honestly amazing."
      ]
    },
    {
      "cell_type": "markdown",
      "id": "f39eb359",
      "metadata": {
        "papermill": {
          "duration": 0.012918,
          "end_time": "2024-03-14T20:53:25.896134",
          "exception": false,
          "start_time": "2024-03-14T20:53:25.883216",
          "status": "completed"
        },
        "tags": [],
        "id": "f39eb359"
      },
      "source": [
        "# Objective\n",
        "This will be a simple practice lab of implementing multivariate regression in order to predict the spending habits of a given student.\n",
        "\n",
        "The data given by the data set is purely fictional, therefore this notebook should only be used for practicing data analysis techniques and should not be used for any actual application."
      ]
    },
    {
      "cell_type": "markdown",
      "id": "60a9430c",
      "metadata": {
        "papermill": {
          "duration": 0.013995,
          "end_time": "2024-03-14T20:53:25.923409",
          "exception": false,
          "start_time": "2024-03-14T20:53:25.909414",
          "status": "completed"
        },
        "tags": [],
        "id": "60a9430c"
      },
      "source": [
        "# Exploratory Data Analysis\n",
        "Here we will view and explore the data to get a better understanding of what features we can include in our regression."
      ]
    },
    {
      "cell_type": "code",
      "execution_count": null,
      "id": "9934455e",
      "metadata": {
        "execution": {
          "iopub.execute_input": "2024-03-14T20:53:25.952236Z",
          "iopub.status.busy": "2024-03-14T20:53:25.951691Z",
          "iopub.status.idle": "2024-03-14T20:53:26.014598Z",
          "shell.execute_reply": "2024-03-14T20:53:26.013447Z"
        },
        "papermill": {
          "duration": 0.080888,
          "end_time": "2024-03-14T20:53:26.017510",
          "exception": false,
          "start_time": "2024-03-14T20:53:25.936622",
          "status": "completed"
        },
        "tags": [],
        "id": "9934455e",
        "outputId": "97e0b66d-3ebc-4f5e-a900-176ee9f3ea0f"
      },
      "outputs": [
        {
          "name": "stdout",
          "output_type": "stream",
          "text": [
            "First Few rows\n",
            "   Unnamed: 0  age      gender year_in_school             major  \\\n",
            "0           0   19  Non-binary       Freshman        Psychology   \n",
            "1           1   24      Female         Junior         Economics   \n",
            "2           2   24  Non-binary         Junior         Economics   \n",
            "3           3   23      Female         Senior  Computer Science   \n",
            "4           4   20      Female         Senior  Computer Science   \n",
            "\n",
            "   monthly_income  financial_aid  tuition  housing  food  transportation  \\\n",
            "0             958            270     5939      709   296             123   \n",
            "1            1006            875     4908      557   365              85   \n",
            "2             734            928     3051      666   220             137   \n",
            "3             617            265     4935      652   289             114   \n",
            "4             810            522     3887      825   372             168   \n",
            "\n",
            "   books_supplies  entertainment  personal_care  technology  health_wellness  \\\n",
            "0             188             41             78         134              127   \n",
            "1             252             74             92         226              129   \n",
            "2              99            130             23         239              112   \n",
            "3             223             99             30         163              105   \n",
            "4             194             48             71          88               71   \n",
            "\n",
            "   miscellaneous preferred_payment_method  \n",
            "0             72        Credit/Debit Card  \n",
            "1             68        Credit/Debit Card  \n",
            "2            133                     Cash  \n",
            "3             55       Mobile Payment App  \n",
            "4            104        Credit/Debit Card  \n",
            "\n",
            "\n",
            "Info\n",
            "<class 'pandas.core.frame.DataFrame'>\n",
            "RangeIndex: 1000 entries, 0 to 999\n",
            "Data columns (total 18 columns):\n",
            " #   Column                    Non-Null Count  Dtype \n",
            "---  ------                    --------------  ----- \n",
            " 0   Unnamed: 0                1000 non-null   int64 \n",
            " 1   age                       1000 non-null   int64 \n",
            " 2   gender                    1000 non-null   object\n",
            " 3   year_in_school            1000 non-null   object\n",
            " 4   major                     1000 non-null   object\n",
            " 5   monthly_income            1000 non-null   int64 \n",
            " 6   financial_aid             1000 non-null   int64 \n",
            " 7   tuition                   1000 non-null   int64 \n",
            " 8   housing                   1000 non-null   int64 \n",
            " 9   food                      1000 non-null   int64 \n",
            " 10  transportation            1000 non-null   int64 \n",
            " 11  books_supplies            1000 non-null   int64 \n",
            " 12  entertainment             1000 non-null   int64 \n",
            " 13  personal_care             1000 non-null   int64 \n",
            " 14  technology                1000 non-null   int64 \n",
            " 15  health_wellness           1000 non-null   int64 \n",
            " 16  miscellaneous             1000 non-null   int64 \n",
            " 17  preferred_payment_method  1000 non-null   object\n",
            "dtypes: int64(14), object(4)\n",
            "memory usage: 140.8+ KB\n",
            "None\n"
          ]
        }
      ],
      "source": [
        "# viewing the data\n",
        "spending = pd.read_csv('/kaggle/input/student-spending-dataset/student_spending (1).csv')\n",
        "\n",
        "print('First Few rows')\n",
        "print(spending.head())\n",
        "print('\\n')\n",
        "print('Info')\n",
        "print(spending.info())"
      ]
    },
    {
      "cell_type": "code",
      "execution_count": null,
      "id": "7f80ebc8",
      "metadata": {
        "execution": {
          "iopub.execute_input": "2024-03-14T20:53:26.046428Z",
          "iopub.status.busy": "2024-03-14T20:53:26.045996Z",
          "iopub.status.idle": "2024-03-14T20:53:26.053533Z",
          "shell.execute_reply": "2024-03-14T20:53:26.052213Z"
        },
        "papermill": {
          "duration": 0.024498,
          "end_time": "2024-03-14T20:53:26.055738",
          "exception": false,
          "start_time": "2024-03-14T20:53:26.031240",
          "status": "completed"
        },
        "tags": [],
        "id": "7f80ebc8",
        "outputId": "69b9ec27-0f3f-4ac5-b890-2fec6b020639"
      },
      "outputs": [
        {
          "name": "stdout",
          "output_type": "stream",
          "text": [
            "Unnamed: 0                  0\n",
            "age                         0\n",
            "gender                      0\n",
            "year_in_school              0\n",
            "major                       0\n",
            "monthly_income              0\n",
            "financial_aid               0\n",
            "tuition                     0\n",
            "housing                     0\n",
            "food                        0\n",
            "transportation              0\n",
            "books_supplies              0\n",
            "entertainment               0\n",
            "personal_care               0\n",
            "technology                  0\n",
            "health_wellness             0\n",
            "miscellaneous               0\n",
            "preferred_payment_method    0\n",
            "dtype: int64\n"
          ]
        }
      ],
      "source": [
        "# looking at missing values\n",
        "print(spending.isna().sum())"
      ]
    },
    {
      "cell_type": "markdown",
      "id": "fa118977",
      "metadata": {
        "papermill": {
          "duration": 0.013571,
          "end_time": "2024-03-14T20:53:26.082636",
          "exception": false,
          "start_time": "2024-03-14T20:53:26.069065",
          "status": "completed"
        },
        "tags": [],
        "id": "fa118977"
      },
      "source": [
        "* Wowie no filling na needs to be done!! But we don't need this unnamed column since by the looks of it, it's just another index column and may get in the way of things later."
      ]
    },
    {
      "cell_type": "code",
      "execution_count": null,
      "id": "c6567ff3",
      "metadata": {
        "execution": {
          "iopub.execute_input": "2024-03-14T20:53:26.111838Z",
          "iopub.status.busy": "2024-03-14T20:53:26.111234Z",
          "iopub.status.idle": "2024-03-14T20:53:26.118625Z",
          "shell.execute_reply": "2024-03-14T20:53:26.117406Z"
        },
        "papermill": {
          "duration": 0.025156,
          "end_time": "2024-03-14T20:53:26.121278",
          "exception": false,
          "start_time": "2024-03-14T20:53:26.096122",
          "status": "completed"
        },
        "tags": [],
        "id": "c6567ff3"
      },
      "outputs": [],
      "source": [
        "spending.drop(labels = 'Unnamed: 0', axis = 1, inplace = True)"
      ]
    },
    {
      "cell_type": "markdown",
      "id": "09f38fb5",
      "metadata": {
        "papermill": {
          "duration": 0.013217,
          "end_time": "2024-03-14T20:53:26.148075",
          "exception": false,
          "start_time": "2024-03-14T20:53:26.134858",
          "status": "completed"
        },
        "tags": [],
        "id": "09f38fb5"
      },
      "source": [
        "### Now lets break down the spending into graphs that are easier to interpret and then compare it across groups\n",
        "How can we do this?\n",
        "1. Create a new pandas series with the mean for all students, this will just essentially be our baseline\n",
        "2. Then we create more series with the mean for students of a group that we are filtering by i.e. Major, Year, Gender, Age\n",
        "3. Lastly we compare across groups"
      ]
    },
    {
      "cell_type": "code",
      "execution_count": null,
      "id": "e126c65f",
      "metadata": {
        "execution": {
          "iopub.execute_input": "2024-03-14T20:53:26.178365Z",
          "iopub.status.busy": "2024-03-14T20:53:26.177150Z",
          "iopub.status.idle": "2024-03-14T20:53:26.183089Z",
          "shell.execute_reply": "2024-03-14T20:53:26.182013Z"
        },
        "papermill": {
          "duration": 0.024043,
          "end_time": "2024-03-14T20:53:26.185587",
          "exception": false,
          "start_time": "2024-03-14T20:53:26.161544",
          "status": "completed"
        },
        "tags": [],
        "id": "e126c65f"
      },
      "outputs": [],
      "source": [
        "# the actual things that students spend money on\n",
        "spendings = ['tuition', 'housing', 'food', 'transportation', 'books_supplies', 'entertainment', 'personal_care', 'technology', 'health_wellness', 'miscellaneous']"
      ]
    },
    {
      "cell_type": "code",
      "execution_count": null,
      "id": "d963f1d8",
      "metadata": {
        "execution": {
          "iopub.execute_input": "2024-03-14T20:53:26.214713Z",
          "iopub.status.busy": "2024-03-14T20:53:26.214285Z",
          "iopub.status.idle": "2024-03-14T20:53:26.224828Z",
          "shell.execute_reply": "2024-03-14T20:53:26.223451Z"
        },
        "papermill": {
          "duration": 0.028312,
          "end_time": "2024-03-14T20:53:26.227291",
          "exception": false,
          "start_time": "2024-03-14T20:53:26.198979",
          "status": "completed"
        },
        "tags": [],
        "id": "d963f1d8",
        "outputId": "80cd0e9a-54c4-4135-a912-6b3532d47cb9"
      },
      "outputs": [
        {
          "name": "stdout",
          "output_type": "stream",
          "text": [
            "tuition            4520.395\n",
            "housing             696.006\n",
            "food                252.642\n",
            "transportation      124.637\n",
            "books_supplies      174.761\n",
            "entertainment        84.814\n",
            "personal_care        60.699\n",
            "technology          178.304\n",
            "health_wellness     114.310\n",
            "miscellaneous       108.910\n",
            "dtype: float64\n"
          ]
        }
      ],
      "source": [
        "# creating series for spendings\n",
        "total_mean = spending[spendings]\n",
        "total_mean = total_mean.mean()\n",
        "\n",
        "print(total_mean)"
      ]
    },
    {
      "cell_type": "code",
      "execution_count": null,
      "id": "c2ac518f",
      "metadata": {
        "execution": {
          "iopub.execute_input": "2024-03-14T20:53:26.256951Z",
          "iopub.status.busy": "2024-03-14T20:53:26.256038Z",
          "iopub.status.idle": "2024-03-14T20:53:26.773798Z",
          "shell.execute_reply": "2024-03-14T20:53:26.772643Z"
        },
        "papermill": {
          "duration": 0.535255,
          "end_time": "2024-03-14T20:53:26.776147",
          "exception": false,
          "start_time": "2024-03-14T20:53:26.240892",
          "status": "completed"
        },
        "tags": [],
        "id": "c2ac518f",
        "outputId": "1146f77f-7798-4694-d906-1c4c1ed836ac"
      },
      "outputs": [
        {
          "name": "stdout",
          "output_type": "stream",
          "text": [
            "Mean Spending for a Student is  6315.478\n"
          ]
        },
        {
          "data": {
            "image/png": "[encoded data removed]",
            "text/plain": [
              "<Figure size 640x480 with 1 Axes>"
            ]
          },
          "metadata": {},
          "output_type": "display_data"
        }
      ],
      "source": [
        "categories = total_mean.index\n",
        "heights = total_mean.values\n",
        "\n",
        "bottom = 0\n",
        "for category, height in zip(categories, heights):\n",
        "    plt.bar('Total Spending', height, bottom=bottom, label=category)\n",
        "    bottom += height\n",
        "\n",
        "plt.ylabel('Spending')\n",
        "plt.title('Stacked Bar Chart of Mean Spending')\n",
        "plt.legend()\n",
        "\n",
        "print('Mean Spending for a Student is ', total_mean.sum())"
      ]
    },
    {
      "cell_type": "markdown",
      "id": "2ea3c5c6",
      "metadata": {
        "papermill": {
          "duration": 0.014252,
          "end_time": "2024-03-14T20:53:26.804782",
          "exception": false,
          "start_time": "2024-03-14T20:53:26.790530",
          "status": "completed"
        },
        "tags": [],
        "id": "2ea3c5c6"
      },
      "source": [
        "* We see that the vast majority of this spending is consumed by the tuition. Now lets view the spending seperated by the major of the individual."
      ]
    },
    {
      "cell_type": "code",
      "execution_count": null,
      "id": "d2c6f92c",
      "metadata": {
        "execution": {
          "iopub.execute_input": "2024-03-14T20:53:26.835599Z",
          "iopub.status.busy": "2024-03-14T20:53:26.834983Z",
          "iopub.status.idle": "2024-03-14T20:53:26.847123Z",
          "shell.execute_reply": "2024-03-14T20:53:26.845835Z"
        },
        "papermill": {
          "duration": 0.030679,
          "end_time": "2024-03-14T20:53:26.849683",
          "exception": false,
          "start_time": "2024-03-14T20:53:26.819004",
          "status": "completed"
        },
        "tags": [],
        "id": "d2c6f92c",
        "outputId": "5bbd8cef-cf47-4de4-9d70-0c8f98ea52e6"
      },
      "outputs": [
        {
          "name": "stdout",
          "output_type": "stream",
          "text": [
            "6315.478\n",
            "6455.217391304348\n"
          ]
        }
      ],
      "source": [
        "total_spend = total_mean.sum()\n",
        "print(total_spend)\n",
        "\n",
        "major_mean = spending[spending['major'] == 'Psychology']\n",
        "major_mean = major_mean[spendings]\n",
        "major_mean = major_mean.mean()\n",
        "comp_sci_spend = major_mean.sum()\n",
        "print(comp_sci_spend)"
      ]
    },
    {
      "cell_type": "code",
      "execution_count": null,
      "id": "28428844",
      "metadata": {
        "execution": {
          "iopub.execute_input": "2024-03-14T20:53:26.881529Z",
          "iopub.status.busy": "2024-03-14T20:53:26.880397Z",
          "iopub.status.idle": "2024-03-14T20:53:26.887488Z",
          "shell.execute_reply": "2024-03-14T20:53:26.886140Z"
        },
        "papermill": {
          "duration": 0.025334,
          "end_time": "2024-03-14T20:53:26.889893",
          "exception": false,
          "start_time": "2024-03-14T20:53:26.864559",
          "status": "completed"
        },
        "tags": [],
        "id": "28428844",
        "outputId": "fb8efcd7-2eee-40e3-fa17-8773454f942f"
      },
      "outputs": [
        {
          "name": "stdout",
          "output_type": "stream",
          "text": [
            "['Psychology' 'Economics' 'Computer Science' 'Engineering' 'Biology']\n"
          ]
        }
      ],
      "source": [
        "majors = spending['major'].unique()\n",
        "print(majors)"
      ]
    },
    {
      "cell_type": "code",
      "execution_count": null,
      "id": "1bcdd39f",
      "metadata": {
        "execution": {
          "iopub.execute_input": "2024-03-14T20:53:26.922403Z",
          "iopub.status.busy": "2024-03-14T20:53:26.921996Z",
          "iopub.status.idle": "2024-03-14T20:53:27.177045Z",
          "shell.execute_reply": "2024-03-14T20:53:27.176195Z"
        },
        "papermill": {
          "duration": 0.274758,
          "end_time": "2024-03-14T20:53:27.179472",
          "exception": false,
          "start_time": "2024-03-14T20:53:26.904714",
          "status": "completed"
        },
        "tags": [],
        "id": "1bcdd39f",
        "outputId": "9d97353f-c68e-4d60-8be8-c9d39c071098"
      },
      "outputs": [
        {
          "data": {
            "text/plain": [
              "(6000.0, 6500.0)"
            ]
          },
          "execution_count": 10,
          "metadata": {},
          "output_type": "execute_result"
        },
        {
          "data": {
            "image/png": "[encoded data removed]",
            "text/plain": [
              "<Figure size 640x480 with 1 Axes>"
            ]
          },
          "metadata": {},
          "output_type": "display_data"
        }
      ],
      "source": [
        "# mean spending by major\n",
        "# for ax, major in zip(axes.flatten(), majors):\n",
        "#     major_mean = spending[spending['major'] == major]\n",
        "#     # it's probably not best practice to have a variable named spending and another named spendings\n",
        "#     major_mean = major_mean[spendings]\n",
        "#     major_mean = major_mean.mean()\n",
        "#     categories = major_mean.index\n",
        "#     heights = major_mean.values\n",
        "\n",
        "#     bottom = 0\n",
        "#     for category, height in zip(categories, heights):\n",
        "#         ax.bar('Total Spending', height, bottom=bottom, label=category)\n",
        "#         bottom += height\n",
        "\n",
        "#     ax.set_ylabel('Spending')\n",
        "#     ax.set_title(f'Mean Spending for {major} Majors')\n",
        "#     ax.legend()\n",
        "\n",
        "# ^ code for plotting stacked bar charts, not working too well and also stacked bar charts not\n",
        "# necessary as this is mostly for comparing the difference in total spending habits rather than\n",
        "# by category\n",
        "\n",
        "\n",
        "by_majors = spending.groupby('major')[spendings].mean().reset_index() #return a dataframe with the mean spending of each major\n",
        "\n",
        "# making bar charts\n",
        "category = by_majors['major'].values\n",
        "heights = by_majors[spendings].sum(axis = 1).values\n",
        "\n",
        "plt.bar(category, heights)\n",
        "plt.ylabel('Spending')\n",
        "plt.ylim(6000, 6500)\n"
      ]
    },
    {
      "cell_type": "markdown",
      "id": "fd795bad",
      "metadata": {
        "papermill": {
          "duration": 0.015309,
          "end_time": "2024-03-14T20:53:27.210330",
          "exception": false,
          "start_time": "2024-03-14T20:53:27.195021",
          "status": "completed"
        },
        "tags": [],
        "id": "fd795bad"
      },
      "source": [
        "**Observations:**\n",
        "There seems to be some difference in the spendings by majors but not much. This could be because the dataset used is fictional and thus does not take into account the different factors that can influence the spendings of a student.\n",
        "\n",
        "But lets Try this again but with different features such as age, gender, monthly income, financial aid, and preferred payment method"
      ]
    },
    {
      "cell_type": "code",
      "execution_count": null,
      "id": "a53c7498",
      "metadata": {
        "execution": {
          "iopub.execute_input": "2024-03-14T20:53:27.242568Z",
          "iopub.status.busy": "2024-03-14T20:53:27.242123Z",
          "iopub.status.idle": "2024-03-14T20:53:27.487420Z",
          "shell.execute_reply": "2024-03-14T20:53:27.486264Z"
        },
        "papermill": {
          "duration": 0.264522,
          "end_time": "2024-03-14T20:53:27.489998",
          "exception": false,
          "start_time": "2024-03-14T20:53:27.225476",
          "status": "completed"
        },
        "tags": [],
        "id": "a53c7498",
        "outputId": "ddd1b989-6fef-439b-e885-5d8548e23fac"
      },
      "outputs": [
        {
          "data": {
            "text/plain": [
              "(6000.0, 6500.0)"
            ]
          },
          "execution_count": 11,
          "metadata": {},
          "output_type": "execute_result"
        },
        {
          "data": {
            "image/png": "[encoded data removed]",
            "text/plain": [
              "<Figure size 640x480 with 1 Axes>"
            ]
          },
          "metadata": {},
          "output_type": "display_data"
        }
      ],
      "source": [
        "# spending by gender\n",
        "genders = spending['gender'].unique()\n",
        "\n",
        "by_genders = spending.groupby('gender')[spendings].mean().reset_index()\n",
        "\n",
        "# making bar charts\n",
        "category = by_genders['gender'].values\n",
        "heights = by_genders[spendings].sum(axis = 1).values\n",
        "\n",
        "plt.bar(category, heights)\n",
        "plt.ylabel('Spending')\n",
        "plt.ylim(6000,6500)"
      ]
    },
    {
      "cell_type": "markdown",
      "id": "023a6432",
      "metadata": {
        "papermill": {
          "duration": 0.015321,
          "end_time": "2024-03-14T20:53:27.521802",
          "exception": false,
          "start_time": "2024-03-14T20:53:27.506481",
          "status": "completed"
        },
        "tags": [],
        "id": "023a6432"
      },
      "source": [
        "Again there is little to no difference"
      ]
    },
    {
      "cell_type": "code",
      "execution_count": null,
      "id": "46754402",
      "metadata": {
        "execution": {
          "iopub.execute_input": "2024-03-14T20:53:27.555526Z",
          "iopub.status.busy": "2024-03-14T20:53:27.554758Z",
          "iopub.status.idle": "2024-03-14T20:53:27.794108Z",
          "shell.execute_reply": "2024-03-14T20:53:27.792972Z"
        },
        "papermill": {
          "duration": 0.259291,
          "end_time": "2024-03-14T20:53:27.796743",
          "exception": false,
          "start_time": "2024-03-14T20:53:27.537452",
          "status": "completed"
        },
        "tags": [],
        "id": "46754402",
        "outputId": "7fd60cb1-d0cc-4eec-dec2-5a9dd6a89683"
      },
      "outputs": [
        {
          "data": {
            "text/plain": [
              "(6000.0, 6500.0)"
            ]
          },
          "execution_count": 12,
          "metadata": {},
          "output_type": "execute_result"
        },
        {
          "data": {
            "image/png": "[encoded data removed]",
            "text/plain": [
              "<Figure size 640x480 with 1 Axes>"
            ]
          },
          "metadata": {},
          "output_type": "display_data"
        }
      ],
      "source": [
        "# spending by preferred payment method\n",
        "pref_pay_method = spending['preferred_payment_method'].unique()\n",
        "\n",
        "by_pref_pay_method = spending.groupby('preferred_payment_method')[spendings].mean().reset_index()\n",
        "\n",
        "# making bar charts\n",
        "category = by_pref_pay_method['preferred_payment_method'].values\n",
        "heights = by_pref_pay_method[spendings].sum(axis = 1).values\n",
        "\n",
        "plt.bar(category, heights)\n",
        "plt.ylabel('Spending')\n",
        "plt.ylim(6000,6500)"
      ]
    },
    {
      "cell_type": "markdown",
      "id": "42278c99",
      "metadata": {
        "papermill": {
          "duration": 0.01584,
          "end_time": "2024-03-14T20:53:27.828546",
          "exception": false,
          "start_time": "2024-03-14T20:53:27.812706",
          "status": "completed"
        },
        "tags": [],
        "id": "42278c99"
      },
      "source": [
        "Still very minor differences"
      ]
    },
    {
      "cell_type": "code",
      "execution_count": null,
      "id": "0ffbf524",
      "metadata": {
        "execution": {
          "iopub.execute_input": "2024-03-14T20:53:27.862963Z",
          "iopub.status.busy": "2024-03-14T20:53:27.862343Z",
          "iopub.status.idle": "2024-03-14T20:53:28.159109Z",
          "shell.execute_reply": "2024-03-14T20:53:28.157958Z"
        },
        "papermill": {
          "duration": 0.317201,
          "end_time": "2024-03-14T20:53:28.161834",
          "exception": false,
          "start_time": "2024-03-14T20:53:27.844633",
          "status": "completed"
        },
        "tags": [],
        "id": "0ffbf524",
        "outputId": "c3c4b455-c1f3-4a8e-efa6-46968cd376ca"
      },
      "outputs": [
        {
          "data": {
            "text/plain": [
              "(6000.0, 6500.0)"
            ]
          },
          "execution_count": 13,
          "metadata": {},
          "output_type": "execute_result"
        },
        {
          "data": {
            "image/png": "[encoded data removed]",
            "text/plain": [
              "<Figure size 640x480 with 1 Axes>"
            ]
          },
          "metadata": {},
          "output_type": "display_data"
        }
      ],
      "source": [
        "# spending by age\n",
        "age = spending['age'].unique()\n",
        "\n",
        "by_age = spending.groupby('age')[spendings].mean().reset_index()\n",
        "\n",
        "# making bar charts\n",
        "category = by_age['age'].values\n",
        "heights = by_age[spendings].sum(axis = 1).values\n",
        "\n",
        "plt.bar(category, heights, width = 0.8)\n",
        "plt.ylabel('Spending')\n",
        "plt.ylim(6000,6500)"
      ]
    },
    {
      "cell_type": "markdown",
      "id": "5a16dcad",
      "metadata": {
        "papermill": {
          "duration": 0.017256,
          "end_time": "2024-03-14T20:53:28.196579",
          "exception": false,
          "start_time": "2024-03-14T20:53:28.179323",
          "status": "completed"
        },
        "tags": [],
        "id": "5a16dcad"
      },
      "source": [
        "Wowie there appears to be some sort of correlation between spending and age but keep in mind that this is a very zoomed in view of the graph."
      ]
    },
    {
      "cell_type": "code",
      "execution_count": null,
      "id": "2a8f1f54",
      "metadata": {
        "execution": {
          "iopub.execute_input": "2024-03-14T20:53:28.233582Z",
          "iopub.status.busy": "2024-03-14T20:53:28.233149Z",
          "iopub.status.idle": "2024-03-14T20:53:28.542940Z",
          "shell.execute_reply": "2024-03-14T20:53:28.542015Z"
        },
        "papermill": {
          "duration": 0.332223,
          "end_time": "2024-03-14T20:53:28.545916",
          "exception": false,
          "start_time": "2024-03-14T20:53:28.213693",
          "status": "completed"
        },
        "tags": [],
        "id": "2a8f1f54",
        "outputId": "b0072a0f-6967-4d96-928d-7448aeafb1be"
      },
      "outputs": [
        {
          "data": {
            "text/plain": [
              "Text(0.5, 0, 'Monthly Income')"
            ]
          },
          "execution_count": 14,
          "metadata": {},
          "output_type": "execute_result"
        },
        {
          "data": {
            "image/png": "[encoded data removed]",
            "text/plain": [
              "<Figure size 640x480 with 1 Axes>"
            ]
          },
          "metadata": {},
          "output_type": "display_data"
        }
      ],
      "source": [
        "# spending by monthly_income\n",
        "by_monthly_inc = spending['monthly_income'].reset_index()\n",
        "by_spendings = spending[spendings].reset_index()\n",
        "by_monthly_inc['spending'] = by_spendings.sum(axis = 1)\n",
        "\n",
        "plt.scatter(by_monthly_inc['monthly_income'], by_monthly_inc['spending'])\n",
        "plt.ylabel('Spending')\n",
        "plt.xlabel('Monthly Income')"
      ]
    },
    {
      "cell_type": "markdown",
      "id": "ece07303",
      "metadata": {
        "papermill": {
          "duration": 0.017917,
          "end_time": "2024-03-14T20:53:28.583365",
          "exception": false,
          "start_time": "2024-03-14T20:53:28.565448",
          "status": "completed"
        },
        "tags": [],
        "id": "ece07303"
      },
      "source": [
        "Little to no correlation between spending and monthly income"
      ]
    },
    {
      "cell_type": "code",
      "execution_count": null,
      "id": "71ec2cfc",
      "metadata": {
        "execution": {
          "iopub.execute_input": "2024-03-14T20:53:28.621078Z",
          "iopub.status.busy": "2024-03-14T20:53:28.620397Z",
          "iopub.status.idle": "2024-03-14T20:53:28.918736Z",
          "shell.execute_reply": "2024-03-14T20:53:28.917581Z"
        },
        "papermill": {
          "duration": 0.320579,
          "end_time": "2024-03-14T20:53:28.921615",
          "exception": false,
          "start_time": "2024-03-14T20:53:28.601036",
          "status": "completed"
        },
        "tags": [],
        "id": "71ec2cfc",
        "outputId": "f38a9a5c-39d9-4dc3-c43f-dd1f9ef23fae"
      },
      "outputs": [
        {
          "data": {
            "text/plain": [
              "Text(0.5, 0, 'Financial Aid')"
            ]
          },
          "execution_count": 15,
          "metadata": {},
          "output_type": "execute_result"
        },
        {
          "data": {
            "image/png": "[encoded data removed]",
            "text/plain": [
              "<Figure size 640x480 with 1 Axes>"
            ]
          },
          "metadata": {},
          "output_type": "display_data"
        }
      ],
      "source": [
        "# spending by financial_aid\n",
        "by_fin_aid = spending['financial_aid'].reset_index()\n",
        "by_spendings = spending[spendings].reset_index()\n",
        "by_fin_aid['spending'] = by_spendings.sum(axis = 1)\n",
        "\n",
        "plt.scatter(by_fin_aid['financial_aid'], by_fin_aid['spending'])\n",
        "plt.ylabel('Spending')\n",
        "plt.xlabel('Financial Aid')"
      ]
    },
    {
      "cell_type": "markdown",
      "id": "079e0602",
      "metadata": {
        "papermill": {
          "duration": 0.018819,
          "end_time": "2024-03-14T20:53:28.959706",
          "exception": false,
          "start_time": "2024-03-14T20:53:28.940887",
          "status": "completed"
        },
        "tags": [],
        "id": "079e0602"
      },
      "source": [
        "Little Correlation between spending and financial aid"
      ]
    },
    {
      "cell_type": "markdown",
      "id": "6ce3759f",
      "metadata": {
        "papermill": {
          "duration": 0.018783,
          "end_time": "2024-03-14T20:53:28.997497",
          "exception": false,
          "start_time": "2024-03-14T20:53:28.978714",
          "status": "completed"
        },
        "tags": [],
        "id": "6ce3759f"
      },
      "source": [
        "### Splitting Data into Training and Test Set\n",
        "**Purpose of Each Set:**\n",
        "Training: Meant to train the model and obtain optimized parameters\n",
        "Testing: Taking the final model with the optimized parameters and testing it. Meant to be a simulation of a real life application of the data.\n",
        "\n",
        "Since Our Data is relatively small (1000 observations) we will have relatively large cross validation and test sets with respect to the training set. So we will use 70% for testing and 30% for testing. These numbers are fairly arbitrary so they can be modified depending on preferences."
      ]
    },
    {
      "cell_type": "code",
      "execution_count": null,
      "id": "6bb49228",
      "metadata": {
        "execution": {
          "iopub.execute_input": "2024-03-14T20:53:29.038371Z",
          "iopub.status.busy": "2024-03-14T20:53:29.037287Z",
          "iopub.status.idle": "2024-03-14T20:53:29.053546Z",
          "shell.execute_reply": "2024-03-14T20:53:29.052497Z"
        },
        "papermill": {
          "duration": 0.039526,
          "end_time": "2024-03-14T20:53:29.056226",
          "exception": false,
          "start_time": "2024-03-14T20:53:29.016700",
          "status": "completed"
        },
        "tags": [],
        "id": "6bb49228",
        "outputId": "ce5656ba-c47d-4a43-daf7-c1fbaa7564fe"
      },
      "outputs": [
        {
          "name": "stdout",
          "output_type": "stream",
          "text": [
            "   age      gender year_in_school             major  monthly_income  \\\n",
            "0   19  Non-binary       Freshman        Psychology             958   \n",
            "1   24      Female         Junior         Economics            1006   \n",
            "2   24  Non-binary         Junior         Economics             734   \n",
            "3   23      Female         Senior  Computer Science             617   \n",
            "4   20      Female         Senior  Computer Science             810   \n",
            "\n",
            "   financial_aid  tuition  housing  food  transportation  books_supplies  \\\n",
            "0            270     5939      709   296             123             188   \n",
            "1            875     4908      557   365              85             252   \n",
            "2            928     3051      666   220             137              99   \n",
            "3            265     4935      652   289             114             223   \n",
            "4            522     3887      825   372             168             194   \n",
            "\n",
            "   entertainment  personal_care  technology  health_wellness  miscellaneous  \\\n",
            "0             41             78         134              127             72   \n",
            "1             74             92         226              129             68   \n",
            "2            130             23         239              112            133   \n",
            "3             99             30         163              105             55   \n",
            "4             48             71          88               71            104   \n",
            "\n",
            "  preferred_payment_method  Spending  \n",
            "0        Credit/Debit Card      7707  \n",
            "1        Credit/Debit Card      6756  \n",
            "2                     Cash      4810  \n",
            "3       Mobile Payment App      6665  \n",
            "4        Credit/Debit Card      5828  \n"
          ]
        }
      ],
      "source": [
        "# should have done this a lot earlier to make the visualization simpler ehe\n",
        "# don't be like me, do this when cleaning your data\n",
        "spending['Spending'] = spending[spendings].sum(axis = 1)\n",
        "print(spending.head())"
      ]
    },
    {
      "cell_type": "markdown",
      "id": "39b1c453",
      "metadata": {
        "papermill": {
          "duration": 0.019425,
          "end_time": "2024-03-14T20:53:29.158062",
          "exception": false,
          "start_time": "2024-03-14T20:53:29.138637",
          "status": "completed"
        },
        "tags": [],
        "id": "39b1c453"
      },
      "source": [
        "The Regression Model will take in the features of\n",
        "* age\n",
        "* gender\n",
        "* major\n",
        "* payment method\n",
        "\n",
        "As these are the only features that had some sort of correlation with the total spending of the student. Try playing around with the features and seeing how the model does."
      ]
    },
    {
      "cell_type": "code",
      "execution_count": null,
      "id": "3abd2269",
      "metadata": {
        "execution": {
          "iopub.execute_input": "2024-03-14T20:53:29.198519Z",
          "iopub.status.busy": "2024-03-14T20:53:29.198094Z",
          "iopub.status.idle": "2024-03-14T20:53:29.203330Z",
          "shell.execute_reply": "2024-03-14T20:53:29.202186Z"
        },
        "papermill": {
          "duration": 0.028356,
          "end_time": "2024-03-14T20:53:29.205752",
          "exception": false,
          "start_time": "2024-03-14T20:53:29.177396",
          "status": "completed"
        },
        "tags": [],
        "id": "3abd2269"
      },
      "outputs": [],
      "source": [
        "features = ['age', 'gender', 'major', 'preferred_payment_method']\n",
        "# we also have to clean up the spendings dataframe a bit since some of the features are categorical\n",
        "# turn categorical variables into dummy variables"
      ]
    },
    {
      "cell_type": "code",
      "execution_count": null,
      "id": "4050085d",
      "metadata": {
        "execution": {
          "iopub.execute_input": "2024-03-14T20:53:29.248754Z",
          "iopub.status.busy": "2024-03-14T20:53:29.247645Z",
          "iopub.status.idle": "2024-03-14T20:53:29.255082Z",
          "shell.execute_reply": "2024-03-14T20:53:29.253824Z"
        },
        "papermill": {
          "duration": 0.0315,
          "end_time": "2024-03-14T20:53:29.257453",
          "exception": false,
          "start_time": "2024-03-14T20:53:29.225953",
          "status": "completed"
        },
        "tags": [],
        "id": "4050085d",
        "outputId": "91f0e220-ef89-4e19-9af4-eb73d68f5503"
      },
      "outputs": [
        {
          "name": "stdout",
          "output_type": "stream",
          "text": [
            "Unique number of categories in gender: ['Non-binary' 'Female' 'Male']\n",
            "Unique number of categories in major: ['Psychology' 'Economics' 'Computer Science' 'Engineering' 'Biology']\n",
            "Unique number of categories in preferred_payment_method: ['Credit/Debit Card' 'Cash' 'Mobile Payment App']\n"
          ]
        }
      ],
      "source": [
        "for feature in features[1:]:\n",
        "    print(f'Unique number of categories in {feature}: {spending[feature].unique()}')"
      ]
    },
    {
      "cell_type": "code",
      "execution_count": null,
      "id": "811f9cc4",
      "metadata": {
        "execution": {
          "iopub.execute_input": "2024-03-14T20:53:29.298311Z",
          "iopub.status.busy": "2024-03-14T20:53:29.297900Z",
          "iopub.status.idle": "2024-03-14T20:53:29.313698Z",
          "shell.execute_reply": "2024-03-14T20:53:29.312678Z"
        },
        "papermill": {
          "duration": 0.039278,
          "end_time": "2024-03-14T20:53:29.316132",
          "exception": false,
          "start_time": "2024-03-14T20:53:29.276854",
          "status": "completed"
        },
        "tags": [],
        "id": "811f9cc4",
        "outputId": "c18a81be-a2fc-4fd6-ce79-a0f610f2aaca"
      },
      "outputs": [
        {
          "name": "stdout",
          "output_type": "stream",
          "text": [
            "   Female   Male  Non-binary  Biology  Computer Science  Economics  \\\n",
            "0   False  False        True    False             False      False   \n",
            "1    True  False       False    False             False       True   \n",
            "2   False  False        True    False             False       True   \n",
            "3    True  False       False    False              True      False   \n",
            "4    True  False       False    False              True      False   \n",
            "\n",
            "   Engineering  Psychology   Cash  Credit/Debit Card  Mobile Payment App  age  \n",
            "0        False        True  False               True               False   19  \n",
            "1        False       False  False               True               False   24  \n",
            "2        False       False   True              False               False   24  \n",
            "3        False       False  False              False                True   23  \n",
            "4        False       False  False               True               False   20  \n"
          ]
        }
      ],
      "source": [
        "dummy_df1 = pd.get_dummies(spending['gender'])\n",
        "dummy_df2 = pd.get_dummies(spending['major'])\n",
        "dummy_df3 = pd.get_dummies(spending['preferred_payment_method'])\n",
        "\n",
        "dummy_df = pd.concat([dummy_df1, dummy_df2, dummy_df3], axis=1)\n",
        "dummy_df['age'] = spending['age']\n",
        "print(dummy_df.head())"
      ]
    },
    {
      "cell_type": "code",
      "execution_count": null,
      "id": "7e41ece1",
      "metadata": {
        "execution": {
          "iopub.execute_input": "2024-03-14T20:53:29.357094Z",
          "iopub.status.busy": "2024-03-14T20:53:29.356500Z",
          "iopub.status.idle": "2024-03-14T20:53:29.363622Z",
          "shell.execute_reply": "2024-03-14T20:53:29.362729Z"
        },
        "papermill": {
          "duration": 0.03026,
          "end_time": "2024-03-14T20:53:29.365831",
          "exception": false,
          "start_time": "2024-03-14T20:53:29.335571",
          "status": "completed"
        },
        "tags": [],
        "id": "7e41ece1",
        "outputId": "e0dffdd3-8bed-4e94-8929-aac4b55c975d"
      },
      "outputs": [
        {
          "name": "stdout",
          "output_type": "stream",
          "text": [
            "(700, 12)\n",
            "(700,)\n"
          ]
        }
      ],
      "source": [
        "# splitting data\n",
        "X_train = dummy_df.iloc[:700].values\n",
        "Y_train = spending.iloc[:700]['Spending'].values\n",
        "\n",
        "X_test = dummy_df.iloc[700:1000].values\n",
        "Y_test = spending.iloc[700:1000]['Spending'].values\n",
        "\n",
        "print(X_train.shape)\n",
        "print(Y_train.shape)"
      ]
    },
    {
      "cell_type": "markdown",
      "id": "b351136b",
      "metadata": {
        "papermill": {
          "duration": 0.019835,
          "end_time": "2024-03-14T20:53:29.406602",
          "exception": false,
          "start_time": "2024-03-14T20:53:29.386767",
          "status": "completed"
        },
        "tags": [],
        "id": "b351136b"
      },
      "source": [
        "# Building the Regression Model"
      ]
    },
    {
      "cell_type": "markdown",
      "id": "06e4fa71",
      "metadata": {
        "papermill": {
          "duration": 0.01983,
          "end_time": "2024-03-14T20:53:29.445912",
          "exception": false,
          "start_time": "2024-03-14T20:53:29.426082",
          "status": "completed"
        },
        "tags": [],
        "id": "06e4fa71"
      },
      "source": [
        "\\*Note: the following code takes a lot of code and equations from the labs provided in the Machine Learning Specialization by Andrew Ng on Coursera."
      ]
    },
    {
      "cell_type": "markdown",
      "id": "e8b66395",
      "metadata": {
        "papermill": {
          "duration": 0.019425,
          "end_time": "2024-03-14T20:53:29.484906",
          "exception": false,
          "start_time": "2024-03-14T20:53:29.465481",
          "status": "completed"
        },
        "tags": [],
        "id": "e8b66395"
      },
      "source": [
        "## How Linear Regression Works\n",
        "\n",
        "1. General Equation for the predicted value in univariate linear regression. Multivariate regression essentially works in the same way but with more weightings and more variables x.\n",
        "    $$f_{w,b}(x) = wx + b$$\n",
        "    \n",
        "\n",
        "2. Compute the cost. For now we are just going to use mean square error because it is simple and it gets the job done.\n",
        "    - Cost Function:\n",
        "\n",
        "    $$J(\\mathbf{w},b) = \\frac{1}{2m} \\sum\\limits_{i = 0}^{m-1} (f_{\\mathbf{w},b}(\\mathbf{x}^{(i)}) - y^{(i)})^2 \\tag{3}$$\n",
        "where:\n",
        "$$ f_{\\mathbf{w},b}(\\mathbf{x}^{(i)}) = \\mathbf{w} \\cdot \\mathbf{x}^{(i)} + b  \\tag{4} $$\n",
        "\n",
        "3. Use Gradient Descent to find the optimal parameters for w and b given your dataset\n",
        "      - Gradient Descent:\n",
        "      $$b := b -  \\alpha \\frac{\\partial J(w,b)}{\\partial b}$$\n",
        "      $$w := w -  \\alpha \\frac{\\partial J(w,b)}{\\partial w}$$\n",
        "      Where $\\alpha$ is the learning rate and $\\frac{\\partial J(w,b)}{\\partial variable}$ is the partial derivative of the cost function with respect to one of the parameters\n",
        "      \n",
        "\\* more will be explained about Cost and Gradient Descent Later"
      ]
    },
    {
      "cell_type": "markdown",
      "id": "0af05410",
      "metadata": {
        "papermill": {
          "duration": 0.019338,
          "end_time": "2024-03-14T20:53:29.523821",
          "exception": false,
          "start_time": "2024-03-14T20:53:29.504483",
          "status": "completed"
        },
        "tags": [],
        "id": "0af05410"
      },
      "source": [
        "### Cost Function\n",
        "\n",
        "The cost function can be thought of as a measure of how close the prediction made by the model given the parameters **w** and **b** are to the actual output. As **w** and **b** change with gradient descent, the loss associated with the parameters for **w** and **b** will also change."
      ]
    },
    {
      "cell_type": "code",
      "execution_count": null,
      "id": "7b869f73",
      "metadata": {
        "execution": {
          "iopub.execute_input": "2024-03-14T20:53:29.566861Z",
          "iopub.status.busy": "2024-03-14T20:53:29.566224Z",
          "iopub.status.idle": "2024-03-14T20:53:29.573275Z",
          "shell.execute_reply": "2024-03-14T20:53:29.572309Z"
        },
        "papermill": {
          "duration": 0.031311,
          "end_time": "2024-03-14T20:53:29.575630",
          "exception": false,
          "start_time": "2024-03-14T20:53:29.544319",
          "status": "completed"
        },
        "tags": [],
        "id": "7b869f73"
      },
      "outputs": [],
      "source": [
        "def compute_cost(X, Y, w, b):\n",
        "    \"\"\"\n",
        "    X: numpy array: Shape (m,n)   Input Data\n",
        "    Y: numpy array: Shape (m,)    Expected Output\n",
        "    w: numpy array: Shape (n,)    Weightings\n",
        "    b: scalar:  Bias\n",
        "    \"\"\"\n",
        "\n",
        "    m = X.shape[0]\n",
        "    cost = 0.0\n",
        "    for i in range(m):\n",
        "        f_wb_i = np.dot(X[i], w) + b\n",
        "        cost = cost + (f_wb_i - Y[i])**2\n",
        "    cost = cost / (2 * m)\n",
        "    return cost\n",
        "\n",
        "# the code below provides a more detailed idea of what is going on but runs a lot slower since it does not utilize vectorization with np.dot()\n",
        "\n",
        "# m, n = X.shape\n",
        "#     total_cost = 0\n",
        "#     cost_sum = 0\n",
        "#     for i in range(m):\n",
        "#         f_wb = 0\n",
        "#         for j in range(n):\n",
        "#             f_wb_j = w[j] * X[i][j]\n",
        "#             f_wb += f_wb_j\n",
        "#         f_wb += b\n",
        "#         cost_i = (f_wb - y[i])**2\n",
        "#         cost_sum = cost_sum + cost_i\n",
        "\n",
        "#     total_cost = cost_sum / (2*m)"
      ]
    },
    {
      "cell_type": "markdown",
      "id": "b0d8bdb3",
      "metadata": {
        "papermill": {
          "duration": 0.022137,
          "end_time": "2024-03-14T20:53:29.618717",
          "exception": false,
          "start_time": "2024-03-14T20:53:29.596580",
          "status": "completed"
        },
        "tags": [],
        "id": "b0d8bdb3"
      },
      "source": [
        "### Gradient Descent\n",
        "The general formula for gradient descent in univariate linear regression is:\n",
        "$$b := b -  \\alpha \\frac{\\partial J(w,b)}{\\partial b}$$\n",
        "$$w := w -  \\alpha \\frac{\\partial J(w,b)}{\\partial w}$$\n",
        "\n",
        "where, parameters **w** and **b** are both updated simultaniously and where  \n",
        "$$\n",
        "\\begin{align}\n",
        "\\frac{\\partial J(\\mathbf{w},b)}{\\partial w_j}  &= \\frac{1}{m} \\sum\\limits_{i = 0}^{m-1} (f_{\\mathbf{w},b}(\\mathbf{x}^{(i)}) - y^{(i)})x_{j}^{(i)} \\tag{6}  \\\\\n",
        "\\frac{\\partial J(\\mathbf{w},b)}{\\partial b}  &= \\frac{1}{m} \\sum\\limits_{i = 0}^{m-1} (f_{\\mathbf{w},b}(\\mathbf{x}^{(i)}) - y^{(i)}) \\tag{7}\n",
        "\\end{align}\n",
        "$$\n"
      ]
    },
    {
      "cell_type": "code",
      "execution_count": null,
      "id": "ca8e55e1",
      "metadata": {
        "execution": {
          "iopub.execute_input": "2024-03-14T20:53:29.668167Z",
          "iopub.status.busy": "2024-03-14T20:53:29.667791Z",
          "iopub.status.idle": "2024-03-14T20:53:29.675063Z",
          "shell.execute_reply": "2024-03-14T20:53:29.674277Z"
        },
        "papermill": {
          "duration": 0.034286,
          "end_time": "2024-03-14T20:53:29.677302",
          "exception": false,
          "start_time": "2024-03-14T20:53:29.643016",
          "status": "completed"
        },
        "tags": [],
        "id": "ca8e55e1"
      },
      "outputs": [],
      "source": [
        "def compute_gradient(X, Y, w, b):\n",
        "    \"\"\"\n",
        "    X: numpy array: Shape (m,n)   Input Data\n",
        "    Y: numpy array: Shape (m,)    Expected Output\n",
        "    w: numpy array: Shape (n,)    Weightings\n",
        "    b: scalar:  Bias\n",
        "     \"\"\"\n",
        "    m,n = X.shape\n",
        "    dj_dw = np.zeros((n,))\n",
        "    dj_db = 0.\n",
        "\n",
        "    for i in range(m):\n",
        "        err = (np.dot(X[i], w) + b) - Y[i]\n",
        "        for j in range(n):\n",
        "            dj_dw[j] = dj_dw[j] + err * X[i, j]\n",
        "        dj_db = dj_db + err\n",
        "    dj_dw = dj_dw / m\n",
        "    dj_db = dj_db / m\n",
        "\n",
        "    return dj_db, dj_dw"
      ]
    },
    {
      "cell_type": "code",
      "execution_count": null,
      "id": "b7f7b869",
      "metadata": {
        "execution": {
          "iopub.execute_input": "2024-03-14T20:53:29.728754Z",
          "iopub.status.busy": "2024-03-14T20:53:29.728355Z",
          "iopub.status.idle": "2024-03-14T20:53:29.738448Z",
          "shell.execute_reply": "2024-03-14T20:53:29.737110Z"
        },
        "papermill": {
          "duration": 0.041208,
          "end_time": "2024-03-14T20:53:29.741194",
          "exception": false,
          "start_time": "2024-03-14T20:53:29.699986",
          "status": "completed"
        },
        "tags": [],
        "id": "b7f7b869"
      },
      "outputs": [],
      "source": [
        "import math\n",
        "def gradient_descent(X, Y, w, b, cost_function, gradient_function, alpha, num_iters):\n",
        "    \"\"\"\n",
        "    X: numpy array: Shape (m,n)   Input Data\n",
        "    y: numpy array: Shape (m,)    Expected Output\n",
        "    w: numpy array: Shape (n,)    Weightings\n",
        "    b: float                      Bias\n",
        "    cost_function:                function to compute cost made earlier\n",
        "    gradient_function:            function to compute the gradient\n",
        "    alpha: (float):               Learning rate\n",
        "    num_iters: (int):             number of iterations to run gradient descent\n",
        "      \"\"\"\n",
        "    for i in range(num_iters):\n",
        "\n",
        "        # Computing the gradient\n",
        "        dj_db,dj_dw = gradient_function(X, Y, w, b)\n",
        "\n",
        "        # Update Parameters using w, b, alpha and gradient\n",
        "        w = w - alpha * dj_dw\n",
        "        b = b - alpha * dj_db\n",
        "\n",
        "        # Print cost every at intervals 10 times or as many iterations if < 10\n",
        "        if i% math.ceil(num_iters / 10) == 0:\n",
        "            J = cost_function(X, Y, w, b)\n",
        "            print(f\"Iteration {i:4d}: Cost {J:8.2f}   \")\n",
        "\n",
        "    return w, b # returning the optimal w and b parameters found using the model"
      ]
    },
    {
      "cell_type": "markdown",
      "id": "fd7cba29",
      "metadata": {
        "papermill": {
          "duration": 0.019315,
          "end_time": "2024-03-14T20:53:29.786373",
          "exception": false,
          "start_time": "2024-03-14T20:53:29.767058",
          "status": "completed"
        },
        "tags": [],
        "id": "fd7cba29"
      },
      "source": [
        "# Testing\n",
        "The fun stuff!!!!"
      ]
    },
    {
      "cell_type": "code",
      "execution_count": null,
      "id": "b9ba9ad4",
      "metadata": {
        "execution": {
          "iopub.execute_input": "2024-03-14T20:53:29.827954Z",
          "iopub.status.busy": "2024-03-14T20:53:29.826650Z",
          "iopub.status.idle": "2024-03-14T20:53:29.833643Z",
          "shell.execute_reply": "2024-03-14T20:53:29.832514Z"
        },
        "papermill": {
          "duration": 0.030251,
          "end_time": "2024-03-14T20:53:29.836038",
          "exception": false,
          "start_time": "2024-03-14T20:53:29.805787",
          "status": "completed"
        },
        "tags": [],
        "id": "b9ba9ad4",
        "outputId": "ecc52e07-4e48-4cc2-c8af-0f43f2426861"
      },
      "outputs": [
        {
          "name": "stdout",
          "output_type": "stream",
          "text": [
            "[[False False True ... True False 19]\n",
            " [True False False ... True False 24]\n",
            " [False False True ... False False 24]\n",
            " ...\n",
            " [False False True ... False True 18]\n",
            " [False False True ... True False 23]\n",
            " [False False True ... False True 19]]\n"
          ]
        }
      ],
      "source": [
        "print(X_train)"
      ]
    },
    {
      "cell_type": "code",
      "execution_count": null,
      "id": "b25d9e6a",
      "metadata": {
        "execution": {
          "iopub.execute_input": "2024-03-14T20:53:29.878484Z",
          "iopub.status.busy": "2024-03-14T20:53:29.877264Z",
          "iopub.status.idle": "2024-03-14T20:59:38.043258Z",
          "shell.execute_reply": "2024-03-14T20:59:38.042256Z"
        },
        "papermill": {
          "duration": 368.18993,
          "end_time": "2024-03-14T20:59:38.046324",
          "exception": false,
          "start_time": "2024-03-14T20:53:29.856394",
          "status": "completed"
        },
        "tags": [],
        "id": "b25d9e6a",
        "outputId": "54545273-9641-4052-ee74-474740e84c0c"
      },
      "outputs": [
        {
          "name": "stdout",
          "output_type": "stream",
          "text": [
            "Iteration    0: Cost 4176091.89   \n",
            "Iteration 3000: Cost 531371.51   \n",
            "Iteration 6000: Cost 487616.20   \n",
            "Iteration 9000: Cost 457942.05   \n",
            "Iteration 12000: Cost 437729.90   \n",
            "Iteration 15000: Cost 423959.69   \n",
            "Iteration 18000: Cost 414578.17   \n",
            "Iteration 21000: Cost 408186.62   \n",
            "Iteration 24000: Cost 403832.11   \n",
            "Iteration 27000: Cost 400865.42   \n"
          ]
        }
      ],
      "source": [
        "# training the model\n",
        "w = np.random.randn(12,) # the reason it is 12 is because there are 12 features in x train\n",
        "b = np.random.randn()\n",
        "alpha = 0.003 # found using trial and error\n",
        "num_iters = 30000\n",
        "\n",
        "w_opt, b_opt = gradient_descent(X_train, Y_train, w, b, compute_cost, compute_gradient, alpha, num_iters)"
      ]
    },
    {
      "cell_type": "code",
      "execution_count": null,
      "id": "4e65c896",
      "metadata": {
        "execution": {
          "iopub.execute_input": "2024-03-14T20:59:38.090129Z",
          "iopub.status.busy": "2024-03-14T20:59:38.089324Z",
          "iopub.status.idle": "2024-03-14T20:59:38.095868Z",
          "shell.execute_reply": "2024-03-14T20:59:38.095018Z"
        },
        "papermill": {
          "duration": 0.031063,
          "end_time": "2024-03-14T20:59:38.098120",
          "exception": false,
          "start_time": "2024-03-14T20:59:38.067057",
          "status": "completed"
        },
        "tags": [],
        "id": "4e65c896",
        "outputId": "0712ec22-c858-46c7-c184-b45971aeff96"
      },
      "outputs": [
        {
          "name": "stdout",
          "output_type": "stream",
          "text": [
            "prediction: 6364.64, target value: 7424, discrepency: -1059.36\n",
            "prediction: 6163.01, target value: 6795, discrepency: -631.99\n",
            "prediction: 6203.97, target value: 4577, discrepency: 1626.97\n",
            "prediction: 6304.52, target value: 7866, discrepency: -1561.48\n",
            "prediction: 6102.07, target value: 6357, discrepency: -254.93\n",
            "prediction: 6378.34, target value: 7852, discrepency: -1473.66\n",
            "prediction: 6542.46, target value: 5372, discrepency: 1170.46\n",
            "prediction: 6222.72, target value: 4864, discrepency: 1358.72\n",
            "prediction: 6470.83, target value: 7346, discrepency: -875.17\n",
            "prediction: 6343.68, target value: 6575, discrepency: -231.32\n"
          ]
        }
      ],
      "source": [
        "# testing the model:\n",
        "m = X_test.shape[0]\n",
        "for i in range(10):\n",
        "    rand_index = np.random.randint(m)\n",
        "    prediction = np.dot(X_test[i], w_opt) + b_opt\n",
        "    actual = Y_test[i]\n",
        "    print(f\"prediction: {prediction:0.2f}, target value: {actual}, discrepency: {prediction - actual:0.2f}\")"
      ]
    },
    {
      "cell_type": "markdown",
      "id": "2af33441",
      "metadata": {
        "papermill": {
          "duration": 0.020296,
          "end_time": "2024-03-14T20:59:38.139082",
          "exception": false,
          "start_time": "2024-03-14T20:59:38.118786",
          "status": "completed"
        },
        "tags": [],
        "id": "2af33441"
      },
      "source": [
        "### Conclusions\n",
        "Ok so it seems that our model isn't really able to predict the actual value of the spending, this can be potentially due to many reason:\n",
        "- Overfitting: By running too many iterations, our model may be memorizing the training data rather than being able to generalize from the training data to make predictions.\n",
        "- Inadequate features: perhaps there were other features that we could have trained the model on but didn't due to not going in depth enough during the exploratory phase of data analysis\n",
        "- Nature of the data: given that the data is fictional, there could be a possibility that there is little correlation between the features and the actual data."
      ]
    }
  ],
  "metadata": {
    "kaggle": {
      "accelerator": "none",
      "dataSources": [
        {
          "datasetId": 4544119,
          "sourceId": 7768117,
          "sourceType": "datasetVersion"
        }
      ],
      "dockerImageVersionId": 30664,
      "isGpuEnabled": false,
      "isInternetEnabled": true,
      "language": "python",
      "sourceType": "notebook"
    },
    "kernelspec": {
      "display_name": "Python 3",
      "language": "python",
      "name": "python3"
    },
    "language_info": {
      "codemirror_mode": {
        "name": "ipython",
        "version": 3
      },
      "file_extension": ".py",
      "mimetype": "text/x-python",
      "name": "python",
      "nbconvert_exporter": "python",
      "pygments_lexer": "ipython3",
      "version": "3.10.13"
    },
    "papermill": {
      "default_parameters": {},
      "duration": 378.551829,
      "end_time": "2024-03-14T20:59:38.782348",
      "environment_variables": {},
      "exception": null,
      "input_path": "__notebook__.ipynb",
      "output_path": "__notebook__.ipynb",
      "parameters": {},
      "start_time": "2024-03-14T20:53:20.230519",
      "version": "2.5.0"
    },
    "colab": {
      "provenance": [],
      "toc_visible": true,
      "include_colab_link": true
    }
  },
  "nbformat": 4,
  "nbformat_minor": 5
}